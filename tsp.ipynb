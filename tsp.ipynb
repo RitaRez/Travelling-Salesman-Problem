{
  "nbformat": 4,
  "nbformat_minor": 0,
  "metadata": {
    "colab": {
      "name": "tsp.ipynb",
      "provenance": [],
      "collapsed_sections": []
    },
    "kernelspec": {
      "name": "python3",
      "display_name": "Python 3"
    },
    "language_info": {
      "name": "python"
    }
  },
  "cells": [
    {
      "cell_type": "code",
      "metadata": {
        "colab": {
          "base_uri": "https://localhost:8080/"
        },
        "id": "37KisGjX3fsd",
        "outputId": "6d4df9b1-0ee9-4ab9-9f94-8debcd9d825f"
      },
      "source": [
        "!pip install networkx\n",
        "import networkx as nx\n",
        "import matplotlib.pyplot as plt\n",
        "import math"
      ],
      "execution_count": 51,
      "outputs": [
        {
          "output_type": "stream",
          "text": [
            "Requirement already satisfied: networkx in /usr/local/lib/python3.7/dist-packages (2.6.2)\n"
          ],
          "name": "stdout"
        }
      ]
    },
    {
      "cell_type": "code",
      "metadata": {
        "id": "_qkF-k4T7ATS"
      },
      "source": [
        "def show_graph(graph):\n",
        "\n",
        "  pos = nx.get_node_attributes(graph, \"pos\")\n",
        "  fig, ax = plt.subplots()\n",
        "\n",
        "  for i in graph.nodes():\n",
        "    ax.annotate(i, (graph.nodes[i]['pos'][0], graph.nodes[i]['pos'][1]), fontsize=15)\n",
        "  \n",
        "  ax.tick_params(left=True, bottom=True, labelleft=True, labelbottom=True)\n",
        "  nx.draw_networkx_edges(graph, pos, alpha=0.4, ax=ax)\n",
        "  nx.draw_networkx_nodes(graph, pos, node_size=100, cmap=plt.cm.Reds_r,)\n",
        "  \n",
        "  plt.show()\n"
      ],
      "execution_count": 52,
      "outputs": []
    },
    {
      "cell_type": "code",
      "metadata": {
        "id": "liouRRiHQACv"
      },
      "source": [
        "def get_cost(graph, order):\n",
        "  cost = 0\n",
        "  for i in range(0, len(order) - 1):   \n",
        "    cost += graph[order[i]][order[i+1]]['weight']\n",
        "\n",
        "  return cost + graph[order[0]][order[len(order) - 1]]['weight']"
      ],
      "execution_count": 53,
      "outputs": []
    },
    {
      "cell_type": "code",
      "metadata": {
        "id": "7BuHQNlm5xXY"
      },
      "source": [
        "def twice_around_the_tree(graph):\n",
        "  mst = nx.minimum_spanning_tree(graph, weight = 'weight', algorithm=\"prim\")\n",
        "  \n",
        "  order = list(nx.dfs_preorder_nodes(mst, 0))\n",
        "  cost = get_cost(graph, order)\n",
        "  # show_graph(mst)\n",
        "  return cost\n"
      ],
      "execution_count": 54,
      "outputs": []
    },
    {
      "cell_type": "code",
      "metadata": {
        "id": "6EQ9095mYvn8",
        "colab": {
          "base_uri": "https://localhost:8080/",
          "height": 284
        },
        "outputId": "50c63cf2-fd7a-491c-bb4d-96b55b2bfe22"
      },
      "source": [
        "def christofides(graph):\n",
        "\n",
        "  mst = nx.minimum_spanning_tree(graph, weight = 'weight', algorithm=\"prim\") # Create a minimum spanning tree T of G.\n",
        "\n",
        "  nodes_odd_degree = [] # Let O be the set of vertices with odd degree in T.\n",
        "  for v in mst.nodes():\n",
        "    if mst.degree[v] % 2:\n",
        "      nodes_odd_degree.append(v)\n",
        "\n",
        "  i = graph.subgraph(nodes_odd_degree) #  I is the induced subgraph given by the vertices from O\n",
        "  matching = nx.min_weight_matching(i, maxcardinality  = True) # Find a minimum-weight perfect matching M in I\n",
        "  for e in matching:\n",
        "    weight = graph[e[0]][e[1]]['weight']\n",
        "    \n",
        "  h = nx.MultiGraph(mst)\n",
        "  h.add_edges_from(matching) # Combine the edges of M and T to form a connected multigraph H in which each vertex has even degree.\n",
        "  circuit = list(nx.eulerian_path(h)) # Form an Eulerian circuit in H.\n",
        "  print(circuit)\n",
        "\n",
        "\n",
        "graph_euclidean = generate_graph('euclidean', 8)\n",
        "print('Euclidean distance:', christofides (graph_euclidean))"
      ],
      "execution_count": 124,
      "outputs": [
        {
          "output_type": "display_data",
          "data": {
            "image/png": "[encoded data removed]",
            "text/plain": [
              "<Figure size 432x288 with 1 Axes>"
            ]
          },
          "metadata": {}
        },
        {
          "output_type": "stream",
          "text": [
            "[(0, 7), (7, 6), (6, 3), (3, 6), (6, 5), (5, 4), (4, 1), (1, 2), (2, 0)]\n",
            "Euclidean distance: None\n"
          ],
          "name": "stdout"
        }
      ]
    },
    {
      "cell_type": "code",
      "metadata": {
        "id": "WjaEyuKQYrki"
      },
      "source": [
        "def bnb_recursive(graph, cbound, cweight, level, cpath, closest, visited, res):\n",
        "  if level == graph.number_of_nodes():\n",
        "    if cpath[level - 1] != cpath[0]:\n",
        "    \n",
        "      cres = cweight + graph[cpath[level-1]][cpath[0]]['weight']\n",
        "      if cres < res:\n",
        "          res = cres\n",
        "    return res\n",
        "\n",
        "  for v in graph.nodes():\n",
        "    if cpath[level-1] != v and visited[v] == False:\n",
        "\n",
        "      temp = cbound;\n",
        "      cweight += graph[cpath[level-1]][v]['weight'];\n",
        "  \n",
        "      if level == 1:\n",
        "        cbound -= ((closest[cpath[level-1]][0] + closest[v][0])/2)\n",
        "      else:\n",
        "        cbound -= ((closest[cpath[level-1]][1] + closest[v][0])/2)\n",
        "      if (cbound + cweight) < res:\n",
        "        cpath[level] = v\n",
        "        visited[v] = True\n",
        "        res = bnb_recursive(graph, cbound, cweight, level+1, cpath, closest, visited, res)\n",
        "      \n",
        "      cweight -= graph[cpath[level-1]][v]['weight']\n",
        "      cbound = temp;\n",
        "  \n",
        "      visited = [False for i in graph.nodes()]\n",
        "      for i in range(0,level):\n",
        "          visited[cpath[i]] = True;\n",
        "          \n",
        "  return res\n",
        "\n",
        "def branch_and_bound(graph):\n",
        "  cbound = 0\n",
        "  closest = []\n",
        "  cpath = [-1 for i in range(0, graph.number_of_nodes()+1)]\n",
        "  visited = [False for i in graph.nodes()]\n",
        "\n",
        "  for v in graph.nodes():\n",
        "    min_weight_neighbors = sorted(graph[v].items(), key=lambda e: e[1][\"weight\"] if e[1][\"weight\"] != 0  else 1000000000)[:2]     \n",
        "    closest.append([min_weight_neighbors[0][1]['weight'], min_weight_neighbors[1][1]['weight']])\n",
        "    cbound += (min_weight_neighbors[0][1]['weight']+ min_weight_neighbors[1][1]['weight'])/2\n",
        "\n",
        "  \n",
        "  visited[0] = True\n",
        "  cpath[0] = 0\n",
        "\n",
        "  return bnb_recursive(graph, cbound, 0, 1, cpath, closest, visited, math.inf)"
      ],
      "execution_count": 127,
      "outputs": []
    },
    {
      "cell_type": "code",
      "metadata": {
        "id": "aIhpyNfq4fkb"
      },
      "source": [
        "def distance(v1, v2, metric):\n",
        "  if metric == 'euclidean':\n",
        "    return ((v1[0] - v2[0])**2 + (v1[1] - v2[1])**2)**(1/2)\n",
        "  else:\n",
        "    return abs(v1[0] - v2[0]) + abs(v1[1] - v2[1])\n",
        "\n",
        "def generate_graph(metric, amount_of_nodes):\n",
        "\n",
        "  graph = nx.soft_random_geometric_graph(n = amount_of_nodes, radius  = 10, dim = 2, p_dist = lambda dist: 1, seed = 5)\n",
        "  for i in graph.nodes():\n",
        "    for j in graph.nodes():\n",
        "      if i != j:\n",
        "        dist = distance(graph.nodes[i]['pos'], graph.nodes[j]['pos'], metric)\n",
        "        graph.add_edge(i, j, weight = dist)\n",
        "      \n",
        "  return graph"
      ],
      "execution_count": 57,
      "outputs": []
    },
    {
      "cell_type": "code",
      "metadata": {
        "colab": {
          "base_uri": "https://localhost:8080/"
        },
        "id": "hGOcxKnpKmE2",
        "outputId": "b4403a23-f583-4916-db92-338ce4c25424"
      },
      "source": [
        " def instance_maker(): \n",
        "  for i in range (4, 5):\n",
        "    graph_euclidean = generate_graph('euclidean', 2**i)\n",
        "    graph_manhattan = generate_graph('manhattan', 2**i)\n",
        "    # show_graph(graph_euclidean)\n",
        "\n",
        "    print('\\nTwice around the tree', 2**i, 'nodes:')\n",
        "    print('Euclidean distance:', twice_around_the_tree(graph_euclidean))\n",
        "    print('Manhattan distance:', twice_around_the_tree(graph_manhattan))\n",
        "    \n",
        "    print('\\nBranch and Bound', 2**i, 'nodes:')\n",
        "    print('Euclidean distance:', branch_and_bound(graph_euclidean))\n",
        "    print('Manhattan distance:', branch_and_bound(graph_manhattan))\n",
        "\n",
        "    # print('\\nChristofides ', 2**i, 'nodes:')\n",
        "    # print('Euclidean distance:', christofides (graph_euclidean))\n",
        "    # print('Manhattan distance:', christofides(graph_manhattan))\n",
        "    \n",
        "\n",
        "instance_maker()"
      ],
      "execution_count": 128,
      "outputs": [
        {
          "output_type": "stream",
          "text": [
            "\n",
            "Twice around the tree 16 nodes:\n",
            "Euclidean distance: 5.11529544230702\n",
            "Manhattan distance: 4.766660928684083\n",
            "\n",
            "Branch and Bound 16 nodes:\n",
            "Euclidean distance: 3.8029488007934487\n",
            "Manhattan distance: 4.527207942654778\n"
          ],
          "name": "stdout"
        }
      ]
    }
  ]
}