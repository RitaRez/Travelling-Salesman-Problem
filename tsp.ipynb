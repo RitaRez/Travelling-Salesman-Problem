{
  "nbformat": 4,
  "nbformat_minor": 0,
  "metadata": {
    "colab": {
      "name": "tsp.ipynb",
      "provenance": [],
      "collapsed_sections": []
    },
    "kernelspec": {
      "name": "python3",
      "display_name": "Python 3"
    },
    "language_info": {
      "name": "python"
    }
  },
  "cells": [
    {
      "cell_type": "code",
      "metadata": {
        "colab": {
          "base_uri": "https://localhost:8080/"
        },
        "id": "37KisGjX3fsd",
        "outputId": "ebd5a449-04ac-45df-d00d-26b1849b2fe0"
      },
      "source": [
        "!pip install networkx\n",
        "import networkx as nx\n",
        "import matplotlib.pyplot as plt\n",
        "import time\n",
        "import numpy as np\n",
        "import pandas as pd"
      ],
      "execution_count": 11,
      "outputs": [
        {
          "output_type": "stream",
          "text": [
            "Requirement already satisfied: networkx in /usr/local/lib/python3.7/dist-packages (2.6.2)\n"
          ],
          "name": "stdout"
        }
      ]
    },
    {
      "cell_type": "markdown",
      "metadata": {
        "id": "3f5ZN-BCQey3"
      },
      "source": [
        "\n",
        "\n",
        "---\n",
        "\n",
        "## Função para plotar grafos no plano cartesiano \n"
      ]
    },
    {
      "cell_type": "code",
      "metadata": {
        "id": "_qkF-k4T7ATS"
      },
      "source": [
        "def show_graph(graph):\n",
        "\n",
        "  pos = nx.get_node_attributes(graph, \"pos\")\n",
        "  fig, ax = plt.subplots()\n",
        "\n",
        "  for i in graph.nodes():\n",
        "    ax.annotate(i, (graph.nodes[i]['pos'][0], graph.nodes[i]['pos'][1]), fontsize=15)\n",
        "  \n",
        "  ax.tick_params(left=True, bottom=True, labelleft=True, labelbottom=True)\n",
        "  nx.draw_networkx_edges(graph, pos, alpha=0.4, ax=ax)\n",
        "  nx.draw_networkx_nodes(graph, pos, node_size=100, cmap=plt.cm.Reds_r,)\n",
        "  \n",
        "  plt.show()\n"
      ],
      "execution_count": 12,
      "outputs": []
    },
    {
      "cell_type": "markdown",
      "metadata": {
        "id": "MdE9hO-lQvwQ"
      },
      "source": [
        "\n",
        "## Twice Around The Tree"
      ]
    },
    {
      "cell_type": "code",
      "metadata": {
        "id": "liouRRiHQACv"
      },
      "source": [
        "def get_cost(graph, order):\n",
        "  cost = 0\n",
        "  for i in range(0, len(order) - 1):   \n",
        "    cost += graph[order[i]][order[i+1]]['weight']\n",
        "\n",
        "  return cost + graph[order[0]][order[len(order) - 1]]['weight']"
      ],
      "execution_count": 13,
      "outputs": []
    },
    {
      "cell_type": "code",
      "metadata": {
        "id": "7BuHQNlm5xXY"
      },
      "source": [
        "def twice_around_the_tree(graph):\n",
        "  mst = nx.minimum_spanning_tree(graph, weight = 'weight', algorithm=\"prim\")\n",
        "  order = list(nx.dfs_preorder_nodes(mst, 0))\n",
        "  cost = get_cost(graph, order)\n",
        "  \n",
        "  return cost\n"
      ],
      "execution_count": 14,
      "outputs": []
    },
    {
      "cell_type": "markdown",
      "metadata": {
        "id": "cgB5rvePQ4j-"
      },
      "source": [
        "## Algoritmo de Christofides"
      ]
    },
    {
      "cell_type": "code",
      "metadata": {
        "id": "6EQ9095mYvn8"
      },
      "source": [
        "def christofides(graph):\n",
        "\n",
        "  mst = nx.minimum_spanning_tree(graph, weight = 'weight', algorithm=\"prim\") # Create a minimum spanning tree T of G.\n",
        "\n",
        "  i = graph.subgraph(nodes_odd_degree) #  I is the induced subgraph given by the vertices from O\n",
        "  matching = nx.min_weight_matching(i, maxcardinality  = True) # Find a minimum-weight perfect matching M in I\n",
        "  for e in matching:\n",
        "    weight = graph[e[0]][e[1]]['weight']\n",
        "    \n",
        "  h = nx.MultiGraph(mst)\n",
        "  h.add_edges_from(matching) # Combine the edges of M and T to form a connected multigraph H in which each vertex has even degree.\n",
        "  \n",
        "  order = list(nx.dfs_preorder_nodes(h, 0))\n",
        "  cost = get_cost(graph, order)\n",
        "  \n",
        "  return cost"
      ],
      "execution_count": 15,
      "outputs": []
    },
    {
      "cell_type": "markdown",
      "metadata": {
        "id": "NVqbkIpkRDzQ"
      },
      "source": [
        "## Branch and Bound\n"
      ]
    },
    {
      "cell_type": "code",
      "metadata": {
        "id": "WjaEyuKQYrki"
      },
      "source": [
        "def bnb_recursive(graph, cbound, cweight, level, cpath, closest, visited, res):\n",
        "  if level == graph.number_of_nodes():\n",
        "    if cpath[level - 1] != cpath[0]:\n",
        "      cres = cweight + graph[cpath[level-1]][cpath[0]]['weight']\n",
        "      if cres < res: res = cres\n",
        "    return res\n",
        "\n",
        "  for v in graph.nodes():\n",
        "    if cpath[level-1] != v and visited[v] == False:\n",
        "\n",
        "      temp = cbound;\n",
        "      cweight += graph[cpath[level-1]][v]['weight'];\n",
        "  \n",
        "      if level == 1: cbound -= ((closest[cpath[level-1]][0] + closest[v][0])/2)\n",
        "      else: cbound -= ((closest[cpath[level-1]][1] + closest[v][0])/2)\n",
        "      \n",
        "      if (cbound + cweight) < res:\n",
        "        cpath[level], visited[v] = v, True\n",
        "        res = bnb_recursive(graph, cbound, cweight, level+1, cpath, closest, visited, res)\n",
        "      \n",
        "      cweight -= graph[cpath[level-1]][v]['weight']\n",
        "      cbound = temp;\n",
        "  \n",
        "      visited = [False for i in graph.nodes()]\n",
        "      for i in range(0,level): visited[cpath[i]] = True;\n",
        "          \n",
        "  return res\n",
        "\n",
        "def branch_and_bound(graph):\n",
        "  cbound, closest = 0, []\n",
        "  cpath, visited = [-1 for i in range(0, graph.number_of_nodes()+1)], [False for i in graph.nodes()]\n",
        "  visited[0], cpath[0] = True, 0\n",
        "\n",
        "  for v in graph.nodes():\n",
        "    min_weight_neighbors = sorted(graph[v].items(), key=lambda e: e[1][\"weight\"] if e[1][\"weight\"] != 0  else 1000000000)[:2]     \n",
        "    closest.append([min_weight_neighbors[0][1]['weight'], min_weight_neighbors[1][1]['weight']])\n",
        "    cbound += (min_weight_neighbors[0][1]['weight']+ min_weight_neighbors[1][1]['weight'])/2\n",
        "\n",
        "  return bnb_recursive(graph, cbound, 0, 1, cpath, closest, visited,  np.Inf)"
      ],
      "execution_count": 16,
      "outputs": []
    },
    {
      "cell_type": "markdown",
      "metadata": {
        "id": "EC75HBUuRMIe"
      },
      "source": [
        "## Gerador do grafo geométrico "
      ]
    },
    {
      "cell_type": "code",
      "metadata": {
        "id": "aIhpyNfq4fkb"
      },
      "source": [
        "def distance(v1, v2, metric):\n",
        "  if metric == 'euclidean':\n",
        "    return ((v1[0] - v2[0])**2 + (v1[1] - v2[1])**2)**(1/2)\n",
        "  else:\n",
        "    return abs(v1[0] - v2[0]) + abs(v1[1] - v2[1])\n",
        "\n",
        "def generate_graph(metric, amount_of_nodes):\n",
        "\n",
        "  graph = nx.soft_random_geometric_graph(n = amount_of_nodes, radius  = 10, dim = 2, p_dist = lambda dist: 1, seed = 5)\n",
        "  for i in graph.nodes():\n",
        "    for j in graph.nodes():\n",
        "      if i != j:\n",
        "        dist = distance(graph.nodes[i]['pos'], graph.nodes[j]['pos'], metric)\n",
        "        graph.add_edge(i, j, weight = dist)\n",
        "      \n",
        "  return graph"
      ],
      "execution_count": 17,
      "outputs": []
    },
    {
      "cell_type": "markdown",
      "metadata": {
        "id": "P39BM_8WRU2a"
      },
      "source": [
        "## Gerador de Instâncias"
      ]
    },
    {
      "cell_type": "code",
      "metadata": {
        "id": "lMr7y8xOcWQ_"
      },
      "source": [
        " def instance_maker(algorithm): \n",
        "  df_cost, df_time = {}, {}\n",
        "\n",
        "  for i in range (4, 11):\n",
        "    graph_euclidean, graph_manhattan = generate_graph('euclidean', 2**i), generate_graph('manhattan', 2**i)\n",
        "\n",
        "    if algorithm == 'Twice Around The Tree':\n",
        "      init = time.time()\n",
        "      cost_e = twice_around_the_tree(graph_euclidean) \n",
        "      period_e = time.time() - init                  \n",
        "      init = time.time()\n",
        "      cost_m = twice_around_the_tree(graph_manhattan) \n",
        "      period_m = time.time() - init      \n",
        "    \n",
        "    elif algorithm == 'Christofides':\n",
        "      init = time.time()\n",
        "      cost_e = christofides(graph_euclidean) \n",
        "      period_e = time.time() - init                  \n",
        "      init = time.time()\n",
        "      cost_m = christofides(graph_manhattan) \n",
        "      period_m = time.time() - init\n",
        "\n",
        "    else:\n",
        "      if i >= 5:\n",
        "        df_cost[2**i], df_time[2**i] = [\"NA\", \"NA\"], [\"NA\", \"NA\"]  \n",
        "        continue\n",
        "      else:   \n",
        "        init = time.time()\n",
        "        cost_e = branch_and_bound(graph_euclidean) \n",
        "        period_e = time.time() - init                  \n",
        "        init = time.time()\n",
        "        cost_m = branch_and_bound(graph_manhattan) \n",
        "        period_m = time.time() - init             \n",
        "\n",
        "    df_cost[2**i], df_time[2**i] = [\"{:.5f}\".format(cost_e), \"{:.5f}\".format(cost_m)], [\"{:.5f}\".format(period_e), \"{:.5f}\".format(period_m)]  \n",
        "\n",
        "    print('\\n', algorithm, 2**i, 'nodes:')\n",
        "    print('Euclidean distance:', cost_e)\n",
        "    print('Manhattan distance:', cost_m)\n",
        "  \n",
        "  return df_cost, df_time"
      ],
      "execution_count": 18,
      "outputs": []
    },
    {
      "cell_type": "code",
      "metadata": {
        "colab": {
          "base_uri": "https://localhost:8080/"
        },
        "id": "LVyFX342hHi2",
        "outputId": "aff17ef6-8c55-45f7-d559-c2aa2f8c2fe3"
      },
      "source": [
        "def main():  \n",
        "  \n",
        "  tat_cost, tat_time = instance_maker('Twice Around The Tree')\n",
        "  print('----------------------------------------------------------------------------------------')\n",
        "  ch_cost, ch_time = instance_maker('Christofides')\n",
        "  print('----------------------------------------------------------------------------------------')\n",
        "  bab_cost, bab_time = instance_maker('Branch and Bound')\n",
        "  print('----------------------------------------------------------------------------------------')\n",
        "\n",
        "  cost = pd.DataFrame({'Twice Around The Tree':tat_cost, 'Christofides':ch_cost, 'Branch and Bound':bab_cost})\n",
        "  time = pd.DataFrame({'Twice Around The Tree':tat_time, 'Christofides':ch_time, 'Branch and Bound':bab_time})\n",
        "\n",
        "  cost.to_csv(\"costs.csv\")\n",
        "  time.to_csv(\"times.csv\")\n",
        "\n",
        "main()"
      ],
      "execution_count": 10,
      "outputs": [
        {
          "output_type": "stream",
          "text": [
            "\n",
            " Twice Around The Tree 16 nodes:\n",
            "Euclidean distance: 5.11529544230702\n",
            "Manhattan distance: 4.766660928684083\n",
            "\n",
            " Twice Around The Tree 32 nodes:\n",
            "Euclidean distance: 6.788482692112228\n",
            "Manhattan distance: 8.957591059150808\n",
            "\n",
            " Twice Around The Tree 64 nodes:\n",
            "Euclidean distance: 7.921827086094279\n",
            "Manhattan distance: 9.907637981321063\n",
            "\n",
            " Twice Around The Tree 128 nodes:\n",
            "Euclidean distance: 12.262415093800096\n",
            "Manhattan distance: 15.078299153052784\n",
            "\n",
            " Twice Around The Tree 256 nodes:\n",
            "Euclidean distance: 15.943903478829085\n",
            "Manhattan distance: 20.23064616105926\n",
            "\n",
            " Twice Around The Tree 512 nodes:\n",
            "Euclidean distance: 22.3634884183945\n",
            "Manhattan distance: 28.350455920208862\n",
            "\n",
            " Twice Around The Tree 1024 nodes:\n",
            "Euclidean distance: 31.451981064760627\n",
            "Manhattan distance: 39.23458468781248\n",
            "----------------------------------------------------------------------------------------\n",
            "\n",
            " Christofides 16 nodes:\n",
            "Euclidean distance: 4.120916595632929\n",
            "Manhattan distance: 5.426766867882269\n",
            "\n",
            " Christofides 32 nodes:\n",
            "Euclidean distance: 7.276637563855783\n",
            "Manhattan distance: 8.696629232395042\n",
            "\n",
            " Christofides 64 nodes:\n",
            "Euclidean distance: 9.257649286050327\n",
            "Manhattan distance: 10.281445689023567\n",
            "\n",
            " Christofides 128 nodes:\n",
            "Euclidean distance: 12.365433435621197\n",
            "Manhattan distance: 15.864605235247176\n",
            "\n",
            " Christofides 256 nodes:\n",
            "Euclidean distance: 16.726758245921943\n",
            "Manhattan distance: 20.854757892053126\n",
            "\n",
            " Christofides 512 nodes:\n",
            "Euclidean distance: 23.08386769240726\n",
            "Manhattan distance: 28.32555823598593\n",
            "\n",
            " Christofides 1024 nodes:\n",
            "Euclidean distance: 31.7248447291686\n",
            "Manhattan distance: 40.971215475310366\n",
            "----------------------------------------------------------------------------------------\n",
            "\n",
            " Branch and Bound 16 nodes:\n",
            "Euclidean distance: 3.8029488007934487\n",
            "Manhattan distance: 4.527207942654778\n",
            "----------------------------------------------------------------------------------------\n"
          ],
          "name": "stdout"
        }
      ]
    }
  ]
}